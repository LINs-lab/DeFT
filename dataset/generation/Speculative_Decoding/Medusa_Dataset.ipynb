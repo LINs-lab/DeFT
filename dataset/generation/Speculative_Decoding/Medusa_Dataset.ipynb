{
 "cells": [
  {
   "cell_type": "markdown",
   "id": "385ae5c6-8c76-4e47-97bf-5f040d4737a5",
   "metadata": {},
   "source": [
    "Dataset Generation\n",
    "Jinwei Yao"
   ]
  },
  {
   "cell_type": "code",
   "execution_count": 1,
   "id": "da2726c7-bec3-482a-a489-7ba963e5cb84",
   "metadata": {},
   "outputs": [
    {
     "name": "stdout",
     "output_type": "stream",
     "text": [
      "NVIDIA A100-SXM4-80GB\n",
      "Transformers version: 4.37.0\n"
     ]
    },
    {
     "name": "stderr",
     "output_type": "stream",
     "text": [
      "Using `is_flash_attn_available` is deprecated and will be removed in v4.38. Please use `is_flash_attn_2_available` instead.\n",
      "Using `is_flash_attn_available` is deprecated and will be removed in v4.38. Please use `is_flash_attn_2_available` instead.\n"
     ]
    }
   ],
   "source": [
    "import os\n",
    "os.environ[\"CUDA_VISIBLE_DEVICES\"] = \"0\" # define GPU id, remove if you want to use all GPUs available\n",
    "import torch\n",
    "gpu=torch.cuda.get_device_name(0)\n",
    "print(gpu)\n",
    "from contextlib import contextmanager\n",
    "import numpy as np\n",
    "import transformers\n",
    "\n",
    "print(\"Transformers version:\", transformers.__version__)\n",
    "\n",
    "from medusa.model.medusa_model import MedusaModel\n",
    "from medusa.model.kv_cache import *\n",
    "from medusa.model.utils import *\n",
    "from medusa.model.medusa_choices import *\n",
    "from copy import deepcopy\n",
    "import matplotlib.pyplot as plt"
   ]
  },
  {
   "cell_type": "code",
   "execution_count": 2,
   "id": "72df51db-11ca-45ff-aa33-863810fb07c5",
   "metadata": {},
   "outputs": [
    {
     "name": "stdout",
     "output_type": "stream",
     "text": [
      "Current path: /home/jinweiy/Medusa/Medusa/notebooks\n"
     ]
    }
   ],
   "source": [
    "current_path = os.getcwd()\n",
    "print(\"Current path:\", current_path)\n"
   ]
  },
  {
   "cell_type": "markdown",
   "id": "4b20563b-1c5c-438d-8aa7-99ec723ec816",
   "metadata": {},
   "source": [
    "Set Model"
   ]
  },
  {
   "cell_type": "code",
   "execution_count": 3,
   "id": "b4c249fd-c747-4f83-b3f6-c2ca95738152",
   "metadata": {},
   "outputs": [
    {
     "data": {
      "application/vnd.jupyter.widget-view+json": {
       "model_id": "bb14e10ffcd34f50943cf962958b407b",
       "version_major": 2,
       "version_minor": 0
      },
      "text/plain": [
       "Loading checkpoint shards:   0%|          | 0/2 [00:00<?, ?it/s]"
      ]
     },
     "metadata": {},
     "output_type": "display_data"
    },
    {
     "name": "stderr",
     "output_type": "stream",
     "text": [
      "/home/jinweiy/.local/lib/python3.11/site-packages/torch/_utils.py:831: UserWarning: TypedStorage is deprecated. It will be removed in the future and UntypedStorage will be the only storage class. This should only matter to you if you are using storages directly.  To access UntypedStorage directly, use tensor.untyped_storage() instead of tensor.storage()\n",
      "  return self.fget.__get__(instance, owner)()\n"
     ]
    }
   ],
   "source": [
    "# model_name = 'FasterDecoding/medusa-vicuna-7b-v1.3'\n",
    "model_name = \"/home/jinweiy/Models/Medusa-Vicuna-7B/Medusa-Vicuna-7B\"\n",
    "model = MedusaModel.from_pretrained(\n",
    "    model_name,\n",
    "    # medusa_num_heads = 4,\n",
    "    torch_dtype=torch.float16,\n",
    "    low_cpu_mem_usage=True,\n",
    "    device_map=\"auto\"\n",
    ")\n",
    "tokenizer = model.get_tokenizer()\n",
    "\n"
   ]
  },
  {
   "cell_type": "code",
   "execution_count": 4,
   "id": "5b74c823-5aad-40b5-a4b0-9db8964638f8",
   "metadata": {},
   "outputs": [
    {
     "name": "stdout",
     "output_type": "stream",
     "text": [
      "TreeA_32: [[0], [1], [2], [3], [0, 0], [0, 1], [1, 0], [1, 1], [2, 0], [2, 1], [3, 0], [3, 1], [0, 0, 0], [0, 0, 1], [0, 1, 0], [0, 1, 1], [1, 0, 0], [1, 0, 1], [1, 1, 0], [1, 1, 1], [2, 0, 0], [2, 0, 1], [2, 1, 0], [2, 1, 1], [3, 0, 0], [3, 0, 1], [3, 1, 0], [3, 1, 1], [0, 0, 0, 0], [0, 0, 0, 1], [0, 0, 1, 0]]\n",
      "TreeA_32 len: 31\n",
      "TreeD_256: [[0], [1], [2], [3], [4], [5], [0, 0], [0, 1], [0, 2], [0, 3], [0, 4], [1, 0], [1, 1], [1, 2], [1, 3], [1, 4], [2, 0], [2, 1], [2, 2], [2, 3], [2, 4], [3, 0], [3, 1], [3, 2], [3, 3], [3, 4], [4, 0], [4, 1], [4, 2], [4, 3], [4, 4], [5, 0], [5, 1], [5, 2], [5, 3], [5, 4], [0, 0, 0], [0, 0, 1], [0, 0, 2], [0, 0, 3], [0, 0, 4], [0, 1, 0], [0, 1, 1], [0, 1, 2], [0, 1, 3], [0, 1, 4], [0, 2, 0], [0, 2, 1], [0, 2, 2], [0, 2, 3], [0, 2, 4], [0, 3, 0], [0, 3, 1], [0, 3, 2], [0, 3, 3], [0, 3, 4], [0, 4, 0], [0, 4, 1], [0, 4, 2], [0, 4, 3], [0, 4, 4], [1, 0, 0], [1, 0, 1], [1, 0, 2], [1, 0, 3], [1, 0, 4], [1, 1, 0], [1, 1, 1], [1, 1, 2], [1, 1, 3], [1, 1, 4], [1, 2, 0], [1, 2, 1], [1, 2, 2], [1, 2, 3], [1, 2, 4], [1, 3, 0], [1, 3, 1], [1, 3, 2], [1, 3, 3], [1, 3, 4], [1, 4, 0], [1, 4, 1], [1, 4, 2], [1, 4, 3], [1, 4, 4], [2, 0, 0], [2, 0, 1], [2, 0, 2], [2, 0, 3], [2, 0, 4], [2, 1, 0], [2, 1, 1], [2, 1, 2], [2, 1, 3], [2, 1, 4], [2, 2, 0], [2, 2, 1], [2, 2, 2], [2, 2, 3], [2, 2, 4], [2, 3, 0], [2, 3, 1], [2, 3, 2], [2, 3, 3], [2, 3, 4], [2, 4, 0], [2, 4, 1], [2, 4, 2], [2, 4, 3], [2, 4, 4], [3, 0, 0], [3, 0, 1], [3, 0, 2], [3, 0, 3], [3, 0, 4], [3, 1, 0], [3, 1, 1], [3, 1, 2], [3, 1, 3], [3, 1, 4], [3, 2, 0], [3, 2, 1], [3, 2, 2], [3, 2, 3], [3, 2, 4], [3, 3, 0], [3, 3, 1], [3, 3, 2], [3, 3, 3], [3, 3, 4], [3, 4, 0], [3, 4, 1], [3, 4, 2], [3, 4, 3], [3, 4, 4], [4, 0, 0], [4, 0, 1], [4, 0, 2], [4, 0, 3], [4, 0, 4], [4, 1, 0], [4, 1, 1], [4, 1, 2], [4, 1, 3], [4, 1, 4], [4, 2, 0], [4, 2, 1], [4, 2, 2], [4, 2, 3], [4, 2, 4], [4, 3, 0], [4, 3, 1], [4, 3, 2], [4, 3, 3], [4, 3, 4], [4, 4, 0], [4, 4, 1], [4, 4, 2], [4, 4, 3], [4, 4, 4], [5, 0, 0], [5, 0, 1], [5, 0, 2], [5, 0, 3], [5, 0, 4], [5, 1, 0], [5, 1, 1], [5, 1, 2], [5, 1, 3], [5, 1, 4], [5, 2, 0], [5, 2, 1], [5, 2, 2], [5, 2, 3], [5, 2, 4], [5, 3, 0], [5, 3, 1], [5, 3, 2], [5, 3, 3], [5, 3, 4], [5, 4, 0], [5, 4, 1], [5, 4, 2], [5, 4, 3], [5, 4, 4], [0, 0, 0, 0], [0, 0, 0, 1], [0, 0, 0, 2], [0, 0, 0, 3], [0, 0, 1, 0], [0, 0, 1, 1], [0, 0, 1, 2], [0, 0, 1, 3], [0, 0, 2, 0], [0, 0, 2, 1], [0, 0, 2, 2], [0, 0, 2, 3], [0, 0, 3, 0], [0, 0, 3, 1], [0, 0, 3, 2], [0, 0, 3, 3], [0, 0, 4, 0], [0, 0, 4, 1], [0, 0, 4, 2], [0, 0, 4, 3], [0, 1, 0, 0], [0, 1, 0, 1], [0, 1, 0, 2], [0, 1, 0, 3], [0, 1, 1, 0], [0, 1, 1, 1], [0, 1, 1, 2], [0, 1, 1, 3], [0, 1, 2, 0], [0, 1, 2, 1], [0, 1, 2, 2], [0, 1, 2, 3], [0, 1, 3, 0], [0, 1, 3, 1], [0, 1, 3, 2], [0, 1, 3, 3], [0, 1, 4, 0], [0, 1, 4, 1], [0, 1, 4, 2], [0, 1, 4, 3], [0, 2, 0, 0], [0, 2, 0, 1], [0, 2, 0, 2], [0, 2, 0, 3], [0, 2, 1, 0], [0, 2, 1, 1], [0, 2, 1, 2], [0, 2, 1, 3], [0, 2, 2, 0], [0, 2, 2, 1], [0, 2, 2, 2], [0, 2, 2, 3], [0, 2, 3, 0], [0, 2, 3, 1], [0, 2, 3, 2], [0, 2, 3, 3], [0, 2, 4, 0], [0, 2, 4, 1], [0, 2, 4, 2], [0, 2, 4, 3], [0, 3, 0, 0], [0, 3, 0, 1], [0, 3, 0, 2], [0, 3, 0, 3], [0, 3, 1, 0], [0, 3, 1, 1], [0, 3, 1, 2], [0, 3, 1, 3], [0, 3, 2, 0]]\n",
      "TreeD_256 len: 255\n"
     ]
    }
   ],
   "source": [
    "from typing import List\n",
    "\n",
    "def generate_tree(total_node: int, depth: int, num_map: List[int]):\n",
    "    tree = []\n",
    "\n",
    "    def generate_nodes(current_depth, parent_paths):\n",
    "        if current_depth == depth:\n",
    "            tree.extend(parent_paths)\n",
    "            return\n",
    "\n",
    "        if current_depth == 0:\n",
    "            new_paths = [[i] for i in range(num_map[current_depth])]\n",
    "        else:\n",
    "            new_paths = []\n",
    "            for path in parent_paths:\n",
    "                for i in range(num_map[current_depth]):\n",
    "                    new_paths.append(path + [i])\n",
    "        tree.extend(new_paths)\n",
    "        generate_nodes(current_depth + 1, new_paths)\n",
    "        \n",
    "    generate_nodes(0, [])\n",
    "\n",
    "    return tree[:total_node]\n",
    "\n",
    "# 生成TreeA_32\n",
    "TreeA_32 = generate_tree(total_node=31, depth=4, num_map=[4, 2, 2, 2])\n",
    "print(\"TreeA_32:\", TreeA_32)\n",
    "print(\"TreeA_32 len:\", len(TreeA_32))\n",
    "\n",
    "# 生成TreeB_128\n",
    "TreeB_128 = generate_tree(total_node=127, depth=4, num_map=[5, 4, 4, 4])\n",
    "# print(\"TreeB_128:\", TreeB_128)\n",
    "# print(\"TreeB_128 len:\", len(TreeB_128))\n",
    "\n",
    "# 生成TreeC_96\n",
    "TreeC_96 = generate_tree(total_node=95, depth=4, num_map=[4, 3, 3, 3])\n",
    "# print(\"TreeC_96:\", TreeC_96)\n",
    "# print(\"TreeC_96 len:\", len(TreeC_96))\n",
    "\n",
    "# TreeD_256\n",
    "TreeD_256 = generate_tree(total_node=255, depth=4, num_map=[6, 5, 5, 4])\n",
    "print(\"TreeD_256:\", TreeD_256)\n",
    "print(\"TreeD_256 len:\", len(TreeD_256))"
   ]
  },
  {
   "cell_type": "markdown",
   "id": "70fa0b84-1751-4c1a-afad-e1c150dc71c6",
   "metadata": {},
   "source": [
    "Set medusa choices"
   ]
  },
  {
   "cell_type": "code",
   "execution_count": 5,
   "id": "cd9330f1-b01c-453b-9290-d02020a9f178",
   "metadata": {},
   "outputs": [],
   "source": [
    "medusa_choices = mc_sim_7b_63\n",
    "# medusa_choices = vicuna_7b_stage1_ablation\n",
    "medusa_choices = TreeD_256\n",
    "past_key_values, past_key_values_data, current_length_data = initialize_past_key_values(model.base_model)\n",
    "model.past_key_values = past_key_values\n",
    "model.past_key_values_data = past_key_values_data\n",
    "model.current_length_data = current_length_data\n"
   ]
  },
  {
   "cell_type": "markdown",
   "id": "08a1bca5-b26a-4edd-bb16-a8c6d4bdf835",
   "metadata": {},
   "source": [
    "Set the prompt\r\n",
    "The prompt is as follow:\r\n",
    "\r\n",
    "A chat between a curious user and an artificial intelligence assistant. The assistant gives helpful, detailed, and polite answers to the user's questions. USER: Hi, could you share a tale about a charming llama that grows Medusa-like hair and starts its own coffee shop? ASSISTANT:"
   ]
  },
  {
   "cell_type": "code",
   "execution_count": 6,
   "id": "8390a134-f06b-4e0c-a2c1-2ac6068083ac",
   "metadata": {},
   "outputs": [
    {
     "name": "stdout",
     "output_type": "stream",
     "text": [
      "A chat between a curious user and an artificial intelligence assistant. The assistant gives helpful, detailed, and polite answers to the user's questions. USER: Hi, could you share a tale about a charming llama that grows Medusa-like hair and starts its own coffee shop? ASSISTANT:\n",
      "Input token length: 66\n",
      "Init KV cache shape for attention modules: (1, 32, 0, 128) (1, 32, 0, 128)\n"
     ]
    }
   ],
   "source": [
    "model.current_length_data.zero_() # this is for rerun\n",
    "prompt = \"A chat between a curious user and an artificial intelligence assistant. The assistant gives helpful, detailed, and polite answers to the user's questions. USER: Hi, could you share a tale about a charming llama that grows Medusa-like hair and starts its own coffee shop? ASSISTANT:\"\n",
    "print(prompt)\n",
    "input_ids = tokenizer([prompt]).input_ids\n",
    "input_len = len(input_ids[0])\n",
    "print('Input token length:', len(input_ids[0]))\n",
    "print('Init KV cache shape for attention modules:', model.past_key_values[0][0].shape, model.past_key_values[0][1].shape)"
   ]
  },
  {
   "cell_type": "markdown",
   "id": "ff1322f6-26ac-46a5-9fed-5a4db0eb6131",
   "metadata": {},
   "source": [
    "Visulaize Tree"
   ]
  },
  {
   "cell_type": "code",
   "execution_count": 7,
   "id": "5f965cfe-0c20-46be-b017-ef3a843d4bec",
   "metadata": {},
   "outputs": [
    {
     "name": "stdout",
     "output_type": "stream",
     "text": [
      "[[0], [1], [2], [3], [4], [5], [0, 0], [0, 1], [0, 2], [0, 3], [0, 4], [1, 0], [1, 1], [1, 2], [1, 3], [1, 4], [2, 0], [2, 1], [2, 2], [2, 3], [2, 4], [3, 0], [3, 1], [3, 2], [3, 3], [3, 4], [4, 0], [4, 1], [4, 2], [4, 3], [4, 4], [5, 0], [5, 1], [5, 2], [5, 3], [5, 4], [0, 0, 0], [0, 0, 1], [0, 0, 2], [0, 0, 3], [0, 0, 4], [0, 1, 0], [0, 1, 1], [0, 1, 2], [0, 1, 3], [0, 1, 4], [0, 2, 0], [0, 2, 1], [0, 2, 2], [0, 2, 3], [0, 2, 4], [0, 3, 0], [0, 3, 1], [0, 3, 2], [0, 3, 3], [0, 3, 4], [0, 4, 0], [0, 4, 1], [0, 4, 2], [0, 4, 3], [0, 4, 4], [1, 0, 0], [1, 0, 1], [1, 0, 2], [1, 0, 3], [1, 0, 4], [1, 1, 0], [1, 1, 1], [1, 1, 2], [1, 1, 3], [1, 1, 4], [1, 2, 0], [1, 2, 1], [1, 2, 2], [1, 2, 3], [1, 2, 4], [1, 3, 0], [1, 3, 1], [1, 3, 2], [1, 3, 3], [1, 3, 4], [1, 4, 0], [1, 4, 1], [1, 4, 2], [1, 4, 3], [1, 4, 4], [2, 0, 0], [2, 0, 1], [2, 0, 2], [2, 0, 3], [2, 0, 4], [2, 1, 0], [2, 1, 1], [2, 1, 2], [2, 1, 3], [2, 1, 4], [2, 2, 0], [2, 2, 1], [2, 2, 2], [2, 2, 3], [2, 2, 4], [2, 3, 0], [2, 3, 1], [2, 3, 2], [2, 3, 3], [2, 3, 4], [2, 4, 0], [2, 4, 1], [2, 4, 2], [2, 4, 3], [2, 4, 4], [3, 0, 0], [3, 0, 1], [3, 0, 2], [3, 0, 3], [3, 0, 4], [3, 1, 0], [3, 1, 1], [3, 1, 2], [3, 1, 3], [3, 1, 4], [3, 2, 0], [3, 2, 1], [3, 2, 2], [3, 2, 3], [3, 2, 4], [3, 3, 0], [3, 3, 1], [3, 3, 2], [3, 3, 3], [3, 3, 4], [3, 4, 0], [3, 4, 1], [3, 4, 2], [3, 4, 3], [3, 4, 4], [4, 0, 0], [4, 0, 1], [4, 0, 2], [4, 0, 3], [4, 0, 4], [4, 1, 0], [4, 1, 1], [4, 1, 2], [4, 1, 3], [4, 1, 4], [4, 2, 0], [4, 2, 1], [4, 2, 2], [4, 2, 3], [4, 2, 4], [4, 3, 0], [4, 3, 1], [4, 3, 2], [4, 3, 3], [4, 3, 4], [4, 4, 0], [4, 4, 1], [4, 4, 2], [4, 4, 3], [4, 4, 4], [5, 0, 0], [5, 0, 1], [5, 0, 2], [5, 0, 3], [5, 0, 4], [5, 1, 0], [5, 1, 1], [5, 1, 2], [5, 1, 3], [5, 1, 4], [5, 2, 0], [5, 2, 1], [5, 2, 2], [5, 2, 3], [5, 2, 4], [5, 3, 0], [5, 3, 1], [5, 3, 2], [5, 3, 3], [5, 3, 4], [5, 4, 0], [5, 4, 1], [5, 4, 2], [5, 4, 3], [5, 4, 4], [0, 0, 0, 0], [0, 0, 0, 1], [0, 0, 0, 2], [0, 0, 0, 3], [0, 0, 1, 0], [0, 0, 1, 1], [0, 0, 1, 2], [0, 0, 1, 3], [0, 0, 2, 0], [0, 0, 2, 1], [0, 0, 2, 2], [0, 0, 2, 3], [0, 0, 3, 0], [0, 0, 3, 1], [0, 0, 3, 2], [0, 0, 3, 3], [0, 0, 4, 0], [0, 0, 4, 1], [0, 0, 4, 2], [0, 0, 4, 3], [0, 1, 0, 0], [0, 1, 0, 1], [0, 1, 0, 2], [0, 1, 0, 3], [0, 1, 1, 0], [0, 1, 1, 1], [0, 1, 1, 2], [0, 1, 1, 3], [0, 1, 2, 0], [0, 1, 2, 1], [0, 1, 2, 2], [0, 1, 2, 3], [0, 1, 3, 0], [0, 1, 3, 1], [0, 1, 3, 2], [0, 1, 3, 3], [0, 1, 4, 0], [0, 1, 4, 1], [0, 1, 4, 2], [0, 1, 4, 3], [0, 2, 0, 0], [0, 2, 0, 1], [0, 2, 0, 2], [0, 2, 0, 3], [0, 2, 1, 0], [0, 2, 1, 1], [0, 2, 1, 2], [0, 2, 1, 3], [0, 2, 2, 0], [0, 2, 2, 1], [0, 2, 2, 2], [0, 2, 2, 3], [0, 2, 3, 0], [0, 2, 3, 1], [0, 2, 3, 2], [0, 2, 3, 3], [0, 2, 4, 0], [0, 2, 4, 1], [0, 2, 4, 2], [0, 2, 4, 3], [0, 3, 0, 0], [0, 3, 0, 1], [0, 3, 0, 2], [0, 3, 0, 3], [0, 3, 1, 0], [0, 3, 1, 1], [0, 3, 1, 2], [0, 3, 1, 3], [0, 3, 2, 0]]\n",
      "255\n"
     ]
    },
    {
     "ename": "ImportError",
     "evalue": "requires pygraphviz http://pygraphviz.github.io/",
     "output_type": "error",
     "traceback": [
      "\u001b[0;31m---------------------------------------------------------------------------\u001b[0m",
      "\u001b[0;31mModuleNotFoundError\u001b[0m                       Traceback (most recent call last)",
      "File \u001b[0;32m/opt/conda/lib/python3.11/site-packages/networkx/drawing/nx_agraph.py:304\u001b[0m, in \u001b[0;36mpygraphviz_layout\u001b[0;34m(G, prog, root, args)\u001b[0m\n\u001b[1;32m    303\u001b[0m \u001b[38;5;28;01mtry\u001b[39;00m:\n\u001b[0;32m--> 304\u001b[0m     \u001b[38;5;28;01mimport\u001b[39;00m \u001b[38;5;21;01mpygraphviz\u001b[39;00m\n\u001b[1;32m    305\u001b[0m \u001b[38;5;28;01mexcept\u001b[39;00m \u001b[38;5;167;01mImportError\u001b[39;00m \u001b[38;5;28;01mas\u001b[39;00m err:\n",
      "\u001b[0;31mModuleNotFoundError\u001b[0m: No module named 'pygraphviz'",
      "\nThe above exception was the direct cause of the following exception:\n",
      "\u001b[0;31mImportError\u001b[0m                               Traceback (most recent call last)",
      "Cell \u001b[0;32mIn[7], line 20\u001b[0m\n\u001b[1;32m     17\u001b[0m         G\u001b[38;5;241m.\u001b[39madd_edge(parent, child)\n\u001b[1;32m     19\u001b[0m \u001b[38;5;66;03m# Use the Graphviz layout for drawing.\u001b[39;00m\n\u001b[0;32m---> 20\u001b[0m pos \u001b[38;5;241m=\u001b[39m \u001b[43mnx\u001b[49m\u001b[38;5;241;43m.\u001b[39;49m\u001b[43mnx_agraph\u001b[49m\u001b[38;5;241;43m.\u001b[39;49m\u001b[43mgraphviz_layout\u001b[49m\u001b[43m(\u001b[49m\u001b[43mG\u001b[49m\u001b[43m,\u001b[49m\u001b[43m \u001b[49m\u001b[43mprog\u001b[49m\u001b[38;5;241;43m=\u001b[39;49m\u001b[38;5;124;43m'\u001b[39;49m\u001b[38;5;124;43mdot\u001b[39;49m\u001b[38;5;124;43m'\u001b[39;49m\u001b[43m)\u001b[49m\n\u001b[1;32m     21\u001b[0m nx\u001b[38;5;241m.\u001b[39mdraw(G, pos, with_labels\u001b[38;5;241m=\u001b[39m\u001b[38;5;28;01mTrue\u001b[39;00m, node_size\u001b[38;5;241m=\u001b[39m\u001b[38;5;241m500\u001b[39m, node_color\u001b[38;5;241m=\u001b[39m\u001b[38;5;124m\"\u001b[39m\u001b[38;5;124mskyblue\u001b[39m\u001b[38;5;124m\"\u001b[39m, font_size\u001b[38;5;241m=\u001b[39m\u001b[38;5;241m10\u001b[39m, width\u001b[38;5;241m=\u001b[39m\u001b[38;5;241m2\u001b[39m, edge_color\u001b[38;5;241m=\u001b[39m\u001b[38;5;124m\"\u001b[39m\u001b[38;5;124mgray\u001b[39m\u001b[38;5;124m\"\u001b[39m)\n\u001b[1;32m     22\u001b[0m plt\u001b[38;5;241m.\u001b[39msavefig(\u001b[38;5;124m'\u001b[39m\u001b[38;5;124mmedusa_configuration_explained.png\u001b[39m\u001b[38;5;124m'\u001b[39m, dpi\u001b[38;5;241m=\u001b[39m\u001b[38;5;241m300\u001b[39m)\n",
      "File \u001b[0;32m/opt/conda/lib/python3.11/site-packages/networkx/drawing/nx_agraph.py:260\u001b[0m, in \u001b[0;36mgraphviz_layout\u001b[0;34m(G, prog, root, args)\u001b[0m\n\u001b[1;32m    229\u001b[0m \u001b[38;5;28;01mdef\u001b[39;00m \u001b[38;5;21mgraphviz_layout\u001b[39m(G, prog\u001b[38;5;241m=\u001b[39m\u001b[38;5;124m\"\u001b[39m\u001b[38;5;124mneato\u001b[39m\u001b[38;5;124m\"\u001b[39m, root\u001b[38;5;241m=\u001b[39m\u001b[38;5;28;01mNone\u001b[39;00m, args\u001b[38;5;241m=\u001b[39m\u001b[38;5;124m\"\u001b[39m\u001b[38;5;124m\"\u001b[39m):\n\u001b[1;32m    230\u001b[0m \u001b[38;5;250m    \u001b[39m\u001b[38;5;124;03m\"\"\"Create node positions for G using Graphviz.\u001b[39;00m\n\u001b[1;32m    231\u001b[0m \n\u001b[1;32m    232\u001b[0m \u001b[38;5;124;03m    Parameters\u001b[39;00m\n\u001b[0;32m   (...)\u001b[0m\n\u001b[1;32m    258\u001b[0m \u001b[38;5;124;03m    see https://gitlab.com/graphviz/graphviz/-/issues/1767 for more info.\u001b[39;00m\n\u001b[1;32m    259\u001b[0m \u001b[38;5;124;03m    \"\"\"\u001b[39;00m\n\u001b[0;32m--> 260\u001b[0m     \u001b[38;5;28;01mreturn\u001b[39;00m \u001b[43mpygraphviz_layout\u001b[49m\u001b[43m(\u001b[49m\u001b[43mG\u001b[49m\u001b[43m,\u001b[49m\u001b[43m \u001b[49m\u001b[43mprog\u001b[49m\u001b[38;5;241;43m=\u001b[39;49m\u001b[43mprog\u001b[49m\u001b[43m,\u001b[49m\u001b[43m \u001b[49m\u001b[43mroot\u001b[49m\u001b[38;5;241;43m=\u001b[39;49m\u001b[43mroot\u001b[49m\u001b[43m,\u001b[49m\u001b[43m \u001b[49m\u001b[43margs\u001b[49m\u001b[38;5;241;43m=\u001b[39;49m\u001b[43margs\u001b[49m\u001b[43m)\u001b[49m\n",
      "File \u001b[0;32m/opt/conda/lib/python3.11/site-packages/networkx/drawing/nx_agraph.py:306\u001b[0m, in \u001b[0;36mpygraphviz_layout\u001b[0;34m(G, prog, root, args)\u001b[0m\n\u001b[1;32m    304\u001b[0m     \u001b[38;5;28;01mimport\u001b[39;00m \u001b[38;5;21;01mpygraphviz\u001b[39;00m\n\u001b[1;32m    305\u001b[0m \u001b[38;5;28;01mexcept\u001b[39;00m \u001b[38;5;167;01mImportError\u001b[39;00m \u001b[38;5;28;01mas\u001b[39;00m err:\n\u001b[0;32m--> 306\u001b[0m     \u001b[38;5;28;01mraise\u001b[39;00m \u001b[38;5;167;01mImportError\u001b[39;00m(\n\u001b[1;32m    307\u001b[0m         \u001b[38;5;124m\"\u001b[39m\u001b[38;5;124mrequires pygraphviz \u001b[39m\u001b[38;5;124m\"\u001b[39m \u001b[38;5;124m\"\u001b[39m\u001b[38;5;124mhttp://pygraphviz.github.io/\u001b[39m\u001b[38;5;124m\"\u001b[39m\n\u001b[1;32m    308\u001b[0m     ) \u001b[38;5;28;01mfrom\u001b[39;00m \u001b[38;5;21;01merr\u001b[39;00m\n\u001b[1;32m    309\u001b[0m \u001b[38;5;28;01mif\u001b[39;00m root \u001b[38;5;129;01mis\u001b[39;00m \u001b[38;5;129;01mnot\u001b[39;00m \u001b[38;5;28;01mNone\u001b[39;00m:\n\u001b[1;32m    310\u001b[0m     args \u001b[38;5;241m+\u001b[39m\u001b[38;5;241m=\u001b[39m \u001b[38;5;124mf\u001b[39m\u001b[38;5;124m\"\u001b[39m\u001b[38;5;124m-Groot=\u001b[39m\u001b[38;5;132;01m{\u001b[39;00mroot\u001b[38;5;132;01m}\u001b[39;00m\u001b[38;5;124m\"\u001b[39m\n",
      "\u001b[0;31mImportError\u001b[0m: requires pygraphviz http://pygraphviz.github.io/"
     ]
    },
    {
     "data": {
      "text/plain": [
       "<Figure size 4000x2000 with 0 Axes>"
      ]
     },
     "metadata": {},
     "output_type": "display_data"
    }
   ],
   "source": [
    "import networkx as nx\n",
    "# import pygraphviz\n",
    "plt.figure(figsize=(40, 20)) \n",
    "\n",
    "paths = medusa_choices[:]\n",
    "print(paths)\n",
    "print(len(paths))\n",
    "G = nx.DiGraph()\n",
    "\n",
    "for path in paths:\n",
    "    for i in range(len(path)):\n",
    "        if i == 0:\n",
    "            parent = 'root'\n",
    "        else:\n",
    "            parent = tuple(path[:i])\n",
    "        child = tuple(path[:i+1])\n",
    "        G.add_edge(parent, child)\n",
    "\n",
    "# Use the Graphviz layout for drawing.\n",
    "pos = nx.nx_agraph.graphviz_layout(G, prog='dot')\n",
    "nx.draw(G, pos, with_labels=True, node_size=500, node_color=\"skyblue\", font_size=10, width=2, edge_color=\"gray\")\n",
    "plt.savefig('medusa_configuration_explained.png', dpi=300)"
   ]
  },
  {
   "cell_type": "code",
   "execution_count": null,
   "id": "5c73e6c2-3195-4cd1-b3cf-49ccc22a0c9d",
   "metadata": {},
   "outputs": [],
   "source": [
    "Visualize Mask"
   ]
  },
  {
   "cell_type": "code",
   "execution_count": 8,
   "id": "a073e613-90ec-41af-9449-e0f1df0f3df9",
   "metadata": {},
   "outputs": [
    {
     "name": "stdout",
     "output_type": "stream",
     "text": [
      "medusa_attn_mask\n",
      "tree_indices\n",
      "medusa_position_ids\n",
      "retrieve_indices\n",
      "Medusa attention mask shape:  torch.Size([1, 1, 256, 256])\n"
     ]
    },
    {
     "data": {
      "text/plain": [
       "<matplotlib.image.AxesImage at 0x7f986d53ee90>"
      ]
     },
     "execution_count": 8,
     "metadata": {},
     "output_type": "execute_result"
    },
    {
     "data": {
      "image/png": "[encoded data removed]",
      "text/plain": [
       "<Figure size 640x480 with 1 Axes>"
      ]
     },
     "metadata": {},
     "output_type": "display_data"
    }
   ],
   "source": [
    "medusa_buffers = generate_medusa_buffers(medusa_choices, device='cpu')\n",
    "for item in medusa_buffers:\n",
    "    print(item)\n",
    "medusa_attn_mask = medusa_buffers['medusa_attn_mask']\n",
    "print('Medusa attention mask shape: ', medusa_attn_mask.shape)\n",
    "plt.imshow(medusa_attn_mask[0,0].cpu().numpy())"
   ]
  },
  {
   "cell_type": "markdown",
   "id": "99440d3f-3720-4342-a97a-3e22b9079bfb",
   "metadata": {},
   "source": [
    "Run inference"
   ]
  },
  {
   "cell_type": "code",
   "execution_count": 9,
   "id": "ee628b10-b6bc-469c-b3d3-119891a0bd72",
   "metadata": {},
   "outputs": [
    {
     "name": "stdout",
     "output_type": "stream",
     "text": [
      "Medusa choices:[[0], [1], [2], [3], [4], [5], [0, 0], [0, 1], [0, 2], [0, 3], [0, 4], [1, 0], [1, 1], [1, 2], [1, 3], [1, 4], [2, 0], [2, 1], [2, 2], [2, 3], [2, 4], [3, 0], [3, 1], [3, 2], [3, 3], [3, 4], [4, 0], [4, 1], [4, 2], [4, 3], [4, 4], [5, 0], [5, 1], [5, 2], [5, 3], [5, 4], [0, 0, 0], [0, 0, 1], [0, 0, 2], [0, 0, 3], [0, 0, 4], [0, 1, 0], [0, 1, 1], [0, 1, 2], [0, 1, 3], [0, 1, 4], [0, 2, 0], [0, 2, 1], [0, 2, 2], [0, 2, 3], [0, 2, 4], [0, 3, 0], [0, 3, 1], [0, 3, 2], [0, 3, 3], [0, 3, 4], [0, 4, 0], [0, 4, 1], [0, 4, 2], [0, 4, 3], [0, 4, 4], [1, 0, 0], [1, 0, 1], [1, 0, 2], [1, 0, 3], [1, 0, 4], [1, 1, 0], [1, 1, 1], [1, 1, 2], [1, 1, 3], [1, 1, 4], [1, 2, 0], [1, 2, 1], [1, 2, 2], [1, 2, 3], [1, 2, 4], [1, 3, 0], [1, 3, 1], [1, 3, 2], [1, 3, 3], [1, 3, 4], [1, 4, 0], [1, 4, 1], [1, 4, 2], [1, 4, 3], [1, 4, 4], [2, 0, 0], [2, 0, 1], [2, 0, 2], [2, 0, 3], [2, 0, 4], [2, 1, 0], [2, 1, 1], [2, 1, 2], [2, 1, 3], [2, 1, 4], [2, 2, 0], [2, 2, 1], [2, 2, 2], [2, 2, 3], [2, 2, 4], [2, 3, 0], [2, 3, 1], [2, 3, 2], [2, 3, 3], [2, 3, 4], [2, 4, 0], [2, 4, 1], [2, 4, 2], [2, 4, 3], [2, 4, 4], [3, 0, 0], [3, 0, 1], [3, 0, 2], [3, 0, 3], [3, 0, 4], [3, 1, 0], [3, 1, 1], [3, 1, 2], [3, 1, 3], [3, 1, 4], [3, 2, 0], [3, 2, 1], [3, 2, 2], [3, 2, 3], [3, 2, 4], [3, 3, 0], [3, 3, 1], [3, 3, 2], [3, 3, 3], [3, 3, 4], [3, 4, 0], [3, 4, 1], [3, 4, 2], [3, 4, 3], [3, 4, 4], [4, 0, 0], [4, 0, 1], [4, 0, 2], [4, 0, 3], [4, 0, 4], [4, 1, 0], [4, 1, 1], [4, 1, 2], [4, 1, 3], [4, 1, 4], [4, 2, 0], [4, 2, 1], [4, 2, 2], [4, 2, 3], [4, 2, 4], [4, 3, 0], [4, 3, 1], [4, 3, 2], [4, 3, 3], [4, 3, 4], [4, 4, 0], [4, 4, 1], [4, 4, 2], [4, 4, 3], [4, 4, 4], [5, 0, 0], [5, 0, 1], [5, 0, 2], [5, 0, 3], [5, 0, 4], [5, 1, 0], [5, 1, 1], [5, 1, 2], [5, 1, 3], [5, 1, 4], [5, 2, 0], [5, 2, 1], [5, 2, 2], [5, 2, 3], [5, 2, 4], [5, 3, 0], [5, 3, 1], [5, 3, 2], [5, 3, 3], [5, 3, 4], [5, 4, 0], [5, 4, 1], [5, 4, 2], [5, 4, 3], [5, 4, 4], [0, 0, 0, 0], [0, 0, 0, 1], [0, 0, 0, 2], [0, 0, 0, 3], [0, 0, 1, 0], [0, 0, 1, 1], [0, 0, 1, 2], [0, 0, 1, 3], [0, 0, 2, 0], [0, 0, 2, 1], [0, 0, 2, 2], [0, 0, 2, 3], [0, 0, 3, 0], [0, 0, 3, 1], [0, 0, 3, 2], [0, 0, 3, 3], [0, 0, 4, 0], [0, 0, 4, 1], [0, 0, 4, 2], [0, 0, 4, 3], [0, 1, 0, 0], [0, 1, 0, 1], [0, 1, 0, 2], [0, 1, 0, 3], [0, 1, 1, 0], [0, 1, 1, 1], [0, 1, 1, 2], [0, 1, 1, 3], [0, 1, 2, 0], [0, 1, 2, 1], [0, 1, 2, 2], [0, 1, 2, 3], [0, 1, 3, 0], [0, 1, 3, 1], [0, 1, 3, 2], [0, 1, 3, 3], [0, 1, 4, 0], [0, 1, 4, 1], [0, 1, 4, 2], [0, 1, 4, 3], [0, 2, 0, 0], [0, 2, 0, 1], [0, 2, 0, 2], [0, 2, 0, 3], [0, 2, 1, 0], [0, 2, 1, 1], [0, 2, 1, 2], [0, 2, 1, 3], [0, 2, 2, 0], [0, 2, 2, 1], [0, 2, 2, 2], [0, 2, 2, 3], [0, 2, 3, 0], [0, 2, 3, 1], [0, 2, 3, 2], [0, 2, 3, 3], [0, 2, 4, 0], [0, 2, 4, 1], [0, 2, 4, 2], [0, 2, 4, 3], [0, 3, 0, 0], [0, 3, 0, 1], [0, 3, 0, 2], [0, 3, 0, 3], [0, 3, 1, 0], [0, 3, 1, 1], [0, 3, 1, 2], [0, 3, 1, 3], [0, 3, 2, 0]]\n",
      "\n",
      "tensor([ 0,  1,  2,  3,  4,  5,  6, 11, 12, 13, 14, 15, 11, 12, 13, 14, 15, 11,\n",
      "        12, 13, 14, 15, 11, 12, 13, 14, 15, 11, 12, 13, 14, 15, 11, 12, 13, 14,\n",
      "        15, 21, 22, 23, 24, 25, 21, 22, 23, 24, 25, 21, 22, 23, 24, 25, 21, 22,\n",
      "        23, 24, 25, 21, 22, 23, 24, 25, 21, 22, 23, 24, 25, 21, 22, 23, 24, 25,\n",
      "        21, 22, 23, 24, 25, 21, 22, 23, 24, 25, 21, 22, 23, 24, 25, 21, 22, 23,\n",
      "        24, 25, 21, 22, 23, 24, 25, 21, 22, 23, 24, 25, 21, 22, 23, 24, 25, 21,\n",
      "        22, 23, 24, 25, 21, 22, 23, 24, 25, 21, 22, 23, 24, 25, 21, 22, 23, 24,\n",
      "        25, 21, 22, 23, 24, 25, 21, 22, 23, 24, 25, 21, 22, 23, 24, 25, 21, 22,\n",
      "        23, 24, 25, 21, 22, 23, 24, 25, 21, 22, 23, 24, 25, 21, 22, 23, 24, 25,\n",
      "        21, 22, 23, 24, 25, 21, 22, 23, 24, 25, 21, 22, 23, 24, 25, 21, 22, 23,\n",
      "        24, 25, 21, 22, 23, 24, 25, 31, 32, 33, 34, 31, 32, 33, 34, 31, 32, 33,\n",
      "        34, 31, 32, 33, 34, 31, 32, 33, 34, 31, 32, 33, 34, 31, 32, 33, 34, 31,\n",
      "        32, 33, 34, 31, 32, 33, 34, 31, 32, 33, 34, 31, 32, 33, 34, 31, 32, 33,\n",
      "        34, 31, 32, 33, 34, 31, 32, 33, 34, 31, 32, 33, 34, 31, 32, 33, 34, 31,\n",
      "        32, 33, 34, 31])\n",
      "candidates=tensor([[ 9038,  2501, 29892, 29915, 29892],\n",
      "        [ 9038,  2501, 29892, 29991,  2266],\n",
      "        [ 9038,  2501, 29892, 29991,   263],\n",
      "        ...,\n",
      "        [ 9038,  2501, 29991,   931,     0],\n",
      "        [ 9038,  2501, 29892,  2748,     0],\n",
      "        [ 9038,  2501, 29892,   263,     0]], device='cuda:0')\n",
      "\n",
      "tree_candidates=tensor([[ 9038,  2501, 13946,  3236, 29991, 29892,   263,   368,   263,  4070,\n",
      "         29892, 29991,   368,   263,  4070, 29892, 29991,   368,   263,  4070,\n",
      "         29892, 29991,   368,   263,  4070, 29892, 29991,   368,   263,  4070,\n",
      "         29892, 29991,   368,   263,  4070, 29892, 29991,   931, 29991, 29915,\n",
      "           263,  2748,   931, 29991, 29915,   263,  2748,   931, 29991, 29915,\n",
      "           263,  2748,   931, 29991, 29915,   263,  2748,   931, 29991, 29915,\n",
      "           263,  2748,   931, 29991, 29915,   263,  2748,   931, 29991, 29915,\n",
      "           263,  2748,   931, 29991, 29915,   263,  2748,   931, 29991, 29915,\n",
      "           263,  2748,   931, 29991, 29915,   263,  2748,   931, 29991, 29915,\n",
      "           263,  2748,   931, 29991, 29915,   263,  2748,   931, 29991, 29915,\n",
      "           263,  2748,   931, 29991, 29915,   263,  2748,   931, 29991, 29915,\n",
      "           263,  2748,   931, 29991, 29915,   263,  2748,   931, 29991, 29915,\n",
      "           263,  2748,   931, 29991, 29915,   263,  2748,   931, 29991, 29915,\n",
      "           263,  2748,   931, 29991, 29915,   263,  2748,   931, 29991, 29915,\n",
      "           263,  2748,   931, 29991, 29915,   263,  2748,   931, 29991, 29915,\n",
      "           263,  2748,   931, 29991, 29915,   263,  2748,   931, 29991, 29915,\n",
      "           263,  2748,   931, 29991, 29915,   263,  2748,   931, 29991, 29915,\n",
      "           263,  2748,   931, 29991, 29915,   263,  2748,   931, 29991, 29915,\n",
      "           263,  2748,   931, 29991, 29915,   263,  2748, 29892, 29879,   263,\n",
      "          2266, 29892, 29879,   263,  2266, 29892, 29879,   263,  2266, 29892,\n",
      "         29879,   263,  2266, 29892, 29879,   263,  2266, 29892, 29879,   263,\n",
      "          2266, 29892, 29879,   263,  2266, 29892, 29879,   263,  2266, 29892,\n",
      "         29879,   263,  2266, 29892, 29879,   263,  2266, 29892, 29879,   263,\n",
      "          2266, 29892, 29879,   263,  2266, 29892, 29879,   263,  2266, 29892,\n",
      "         29879,   263,  2266, 29892, 29879,   263,  2266, 29892, 29879,   263,\n",
      "          2266, 29892, 29879,   263,  2266, 29892]], device='cuda:0')\n",
      "\n"
     ]
    }
   ],
   "source": [
    "accept_lengths_tree = []\n",
    "print(f\"Medusa choices:{medusa_choices}\\n\")\n",
    "print(medusa_buffers[\"tree_indices\"])\n",
    "# print(f\"tree_indices={medusa_buffers[\"tree_indices\"]}\\n\")\n",
    "with torch.inference_mode():\n",
    "    new_token = 0\n",
    "    input_ids = tokenizer([prompt]).input_ids\n",
    "    input_len = len(input_ids[0])\n",
    "    input_ids = torch.as_tensor(input_ids).cuda()\n",
    "    model.current_length_data.zero_() # this is for rerun\n",
    "    reset_medusa_mode(model)\n",
    "    medusa_buffers = generate_medusa_buffers(\n",
    "                medusa_choices, device=model.base_model.device\n",
    "            )\n",
    "    medusa_logits, logits = initialize_medusa(\n",
    "            input_ids, model, medusa_buffers[\"medusa_attn_mask\"], past_key_values\n",
    "        )\n",
    "    cur_length = input_len + 1\n",
    "    accept_lengths_tree.append(1)\n",
    "    \n",
    "    for i in range(1024):\n",
    "        candidates, tree_candidates = generate_candidates(\n",
    "                medusa_logits,\n",
    "                logits,\n",
    "                medusa_buffers[\"tree_indices\"],\n",
    "                medusa_buffers[\"retrieve_indices\"],\n",
    "            )\n",
    "        if i==0:\n",
    "            print(f\"candidates={candidates}\\n\")\n",
    "            print(f\"tree_candidates={tree_candidates}\\n\")\n",
    "        medusa_logits, logits, outputs = tree_decoding(\n",
    "                model,\n",
    "                tree_candidates,\n",
    "                past_key_values,\n",
    "                medusa_buffers[\"medusa_position_ids\"],\n",
    "                input_ids,\n",
    "                medusa_buffers[\"retrieve_indices\"],\n",
    "            )\n",
    "        best_candidate, accept_length = evaluate_posterior(\n",
    "                logits, candidates, temperature = 0, posterior_threshold = 0, posterior_alpha = 0\n",
    "            )\n",
    "        input_ids, logits, medusa_logits, new_token = update_inference_inputs(\n",
    "                input_ids,\n",
    "                candidates,\n",
    "                best_candidate,\n",
    "                accept_length,\n",
    "                medusa_buffers[\"retrieve_indices\"],\n",
    "                outputs,\n",
    "                logits,\n",
    "                medusa_logits,\n",
    "                new_token,\n",
    "                past_key_values_data,\n",
    "                current_length_data,\n",
    "            )\n",
    "        \n",
    "        accept_length_tree = input_ids.shape[1] - cur_length\n",
    "        cur_length = accept_length_tree + cur_length\n",
    "        accept_lengths_tree.append(accept_length_tree)\n",
    "        # if model.tokenizer.eos_token_id in input_ids[0, input_len:]:\n",
    "        #     break\n",
    "# print('Decode:', tokenizer.batch_decode(input_ids[:,input_len:]))"
   ]
  },
  {
   "cell_type": "markdown",
   "id": "3cf980d0-f14f-4f7b-9d82-e68652435330",
   "metadata": {},
   "source": [
    "Calculate avg length"
   ]
  },
  {
   "cell_type": "code",
   "execution_count": 10,
   "id": "13823fb2-a215-4f5e-b408-5e32ec098829",
   "metadata": {},
   "outputs": [
    {
     "name": "stdout",
     "output_type": "stream",
     "text": [
      "Avg. accept tree length: 3.3092682926829267\n"
     ]
    },
    {
     "data": {
      "image/png": "[encoded data removed]",
      "text/plain": [
       "<Figure size 640x480 with 1 Axes>"
      ]
     },
     "metadata": {},
     "output_type": "display_data"
    }
   ],
   "source": [
    "def moving_average(data, window_size=5):\n",
    "    return np.convolve(data, np.ones(window_size)/window_size, mode='valid')\n",
    "\n",
    "# Unsmoothed plots with transparency\n",
    "plt.plot(accept_lengths_tree, label='Tree decoding (Raw)', alpha=0.3)\n",
    "# plt.plot(accept_lengths, label='List decoding (Raw)', alpha=0.3)\n",
    "\n",
    "# # Smoothed plots\n",
    "# window_size = 5  # You can adjust this as needed\n",
    "# plt.plot(moving_average(accept_lengths_tree, window_size), label='Tree decoding (Smoothed)', color='tab:blue')\n",
    "# plt.plot(moving_average(accept_lengths, window_size), label='List decoding (Smoothed)', color='tab:orange')\n",
    "\n",
    "plt.xlabel('Inference step')\n",
    "plt.ylabel('Accept length')\n",
    "plt.legend()\n",
    "\n",
    "print('Avg. accept tree length:', np.mean(accept_lengths_tree))\n",
    "# print('Avg. accept list length:', np.mean(accept_lengths))\n",
    "\n",
    "plt.show()"
   ]
  },
  {
   "cell_type": "markdown",
   "id": "af285fda-ae20-483e-813f-ea80fc97532e",
   "metadata": {},
   "source": [
    "# for dataset record by Jinwei Yao\n",
    "# dataset: shareGPT-- https://huggingface.co/datasets/Aeala/ShareGPT_Vicuna_unfiltered\n",
    "\n",
    "# structure: Tree ID, Meta: Tree Structure, Token Tree size; 1. prompt; 2. Accept_length; 3. Avg_accept_length"
   ]
  },
  {
   "cell_type": "code",
   "execution_count": 12,
   "id": "8c50ac34-46d6-4d38-ba4f-ff274f3f9447",
   "metadata": {},
   "outputs": [],
   "source": [
    "# Load dataset and Select first 200 traces\n",
    "from datasets import load_dataset\n"
   ]
  },
  {
   "cell_type": "code",
   "execution_count": 24,
   "id": "ff8d8973-c00d-4585-a8b4-2c4ff6ba8bb1",
   "metadata": {},
   "outputs": [
    {
     "data": {
      "application/vnd.jupyter.widget-view+json": {
       "model_id": "c2c8a7de596d4366a4e9c1a6e3d63bb8",
       "version_major": 2,
       "version_minor": 0
      },
      "text/plain": [
       "Downloading readme:   0%|          | 0.00/1.49k [00:00<?, ?B/s]"
      ]
     },
     "metadata": {},
     "output_type": "display_data"
    },
    {
     "data": {
      "application/vnd.jupyter.widget-view+json": {
       "model_id": "e74ab6d9f4f144fea39e714366c32753",
       "version_major": 2,
       "version_minor": 0
      },
      "text/plain": [
       "Downloading data:   0%|          | 0.00/30.1k [00:00<?, ?B/s]"
      ]
     },
     "metadata": {},
     "output_type": "display_data"
    },
    {
     "data": {
      "application/vnd.jupyter.widget-view+json": {
       "model_id": "1277411d872645e4bbfe6a128f9e352d",
       "version_major": 2,
       "version_minor": 0
      },
      "text/plain": [
       "Generating train split:   0%|          | 0/80 [00:00<?, ? examples/s]"
      ]
     },
     "metadata": {},
     "output_type": "display_data"
    }
   ],
   "source": [
    "# for each tree size, profile Medusa\n",
    "dataset = load_dataset('HuggingFaceH4/mt_bench_prompts')"
   ]
  },
  {
   "cell_type": "code",
   "execution_count": 25,
   "id": "4447d87e-d798-442c-86e4-9c2438899d6a",
   "metadata": {},
   "outputs": [
    {
     "name": "stdout",
     "output_type": "stream",
     "text": [
      "80\n",
      "Compose an engaging travel blog post about a recent trip to Hawaii, highlighting cultural experiences and must-see attractions.\n",
      "Rewrite your previous response. Start every sentence with the letter A.\n"
     ]
    }
   ],
   "source": [
    "# example\n",
    "\n",
    "first__trace = dataset['train']['prompt'][0]\n",
    "print(len(dataset['train']))\n",
    "# 打印1条 traces\n",
    "for trace in first__trace:\n",
    "    print(trace)"
   ]
  },
  {
   "cell_type": "code",
   "execution_count": 58,
   "id": "d58422b2-0d4c-4dd8-b3b4-40b7dc2f2f56",
   "metadata": {},
   "outputs": [
    {
     "name": "stdout",
     "output_type": "stream",
     "text": [
      "Medusa choices:[[0], [1], [2], [3], [4], [5], [0, 0], [0, 1], [0, 2], [0, 3], [0, 4], [1, 0], [1, 1], [1, 2], [1, 3], [1, 4], [2, 0], [2, 1], [2, 2], [2, 3], [2, 4], [3, 0], [3, 1], [3, 2], [3, 3], [3, 4], [4, 0], [4, 1], [4, 2], [4, 3], [4, 4], [5, 0], [5, 1], [5, 2], [5, 3], [5, 4], [0, 0, 0], [0, 0, 1], [0, 0, 2], [0, 0, 3], [0, 0, 4], [0, 1, 0], [0, 1, 1], [0, 1, 2], [0, 1, 3], [0, 1, 4], [0, 2, 0], [0, 2, 1], [0, 2, 2], [0, 2, 3], [0, 2, 4], [0, 3, 0], [0, 3, 1], [0, 3, 2], [0, 3, 3], [0, 3, 4], [0, 4, 0], [0, 4, 1], [0, 4, 2], [0, 4, 3], [0, 4, 4], [1, 0, 0], [1, 0, 1], [1, 0, 2], [1, 0, 3], [1, 0, 4], [1, 1, 0], [1, 1, 1], [1, 1, 2], [1, 1, 3], [1, 1, 4], [1, 2, 0], [1, 2, 1], [1, 2, 2], [1, 2, 3], [1, 2, 4], [1, 3, 0], [1, 3, 1], [1, 3, 2], [1, 3, 3], [1, 3, 4], [1, 4, 0], [1, 4, 1], [1, 4, 2], [1, 4, 3], [1, 4, 4], [2, 0, 0], [2, 0, 1], [2, 0, 2], [2, 0, 3], [2, 0, 4], [2, 1, 0], [2, 1, 1], [2, 1, 2], [2, 1, 3], [2, 1, 4], [2, 2, 0], [2, 2, 1], [2, 2, 2], [2, 2, 3], [2, 2, 4], [2, 3, 0], [2, 3, 1], [2, 3, 2], [2, 3, 3], [2, 3, 4], [2, 4, 0], [2, 4, 1], [2, 4, 2], [2, 4, 3], [2, 4, 4], [3, 0, 0], [3, 0, 1], [3, 0, 2], [3, 0, 3], [3, 0, 4], [3, 1, 0], [3, 1, 1], [3, 1, 2], [3, 1, 3], [3, 1, 4], [3, 2, 0], [3, 2, 1], [3, 2, 2], [3, 2, 3], [3, 2, 4], [3, 3, 0], [3, 3, 1], [3, 3, 2], [3, 3, 3], [3, 3, 4], [3, 4, 0], [3, 4, 1], [3, 4, 2], [3, 4, 3], [3, 4, 4], [4, 0, 0], [4, 0, 1], [4, 0, 2], [4, 0, 3], [4, 0, 4], [4, 1, 0], [4, 1, 1], [4, 1, 2], [4, 1, 3], [4, 1, 4], [4, 2, 0], [4, 2, 1], [4, 2, 2], [4, 2, 3], [4, 2, 4], [4, 3, 0], [4, 3, 1], [4, 3, 2], [4, 3, 3], [4, 3, 4], [4, 4, 0], [4, 4, 1], [4, 4, 2], [4, 4, 3], [4, 4, 4], [5, 0, 0], [5, 0, 1], [5, 0, 2], [5, 0, 3], [5, 0, 4], [5, 1, 0], [5, 1, 1], [5, 1, 2], [5, 1, 3], [5, 1, 4], [5, 2, 0], [5, 2, 1], [5, 2, 2], [5, 2, 3], [5, 2, 4], [5, 3, 0], [5, 3, 1], [5, 3, 2], [5, 3, 3], [5, 3, 4], [5, 4, 0], [5, 4, 1], [5, 4, 2], [5, 4, 3], [5, 4, 4], [0, 0, 0, 0], [0, 0, 0, 1], [0, 0, 0, 2], [0, 0, 0, 3], [0, 0, 1, 0], [0, 0, 1, 1], [0, 0, 1, 2], [0, 0, 1, 3], [0, 0, 2, 0], [0, 0, 2, 1], [0, 0, 2, 2], [0, 0, 2, 3], [0, 0, 3, 0], [0, 0, 3, 1], [0, 0, 3, 2], [0, 0, 3, 3], [0, 0, 4, 0], [0, 0, 4, 1], [0, 0, 4, 2], [0, 0, 4, 3], [0, 1, 0, 0], [0, 1, 0, 1], [0, 1, 0, 2], [0, 1, 0, 3], [0, 1, 1, 0], [0, 1, 1, 1], [0, 1, 1, 2], [0, 1, 1, 3], [0, 1, 2, 0], [0, 1, 2, 1], [0, 1, 2, 2], [0, 1, 2, 3], [0, 1, 3, 0], [0, 1, 3, 1], [0, 1, 3, 2], [0, 1, 3, 3], [0, 1, 4, 0], [0, 1, 4, 1], [0, 1, 4, 2], [0, 1, 4, 3], [0, 2, 0, 0], [0, 2, 0, 1], [0, 2, 0, 2], [0, 2, 0, 3], [0, 2, 1, 0], [0, 2, 1, 1], [0, 2, 1, 2], [0, 2, 1, 3], [0, 2, 2, 0], [0, 2, 2, 1], [0, 2, 2, 2], [0, 2, 2, 3], [0, 2, 3, 0], [0, 2, 3, 1], [0, 2, 3, 2], [0, 2, 3, 3], [0, 2, 4, 0], [0, 2, 4, 1], [0, 2, 4, 2], [0, 2, 4, 3], [0, 3, 0, 0], [0, 3, 0, 1], [0, 3, 0, 2], [0, 3, 0, 3], [0, 3, 1, 0], [0, 3, 1, 1], [0, 3, 1, 2], [0, 3, 1, 3], [0, 3, 2, 0]]\n",
      "\n",
      "tensor([ 0,  1,  2,  3,  4,  5,  6, 11, 12, 13, 14, 15, 11, 12, 13, 14, 15, 11,\n",
      "        12, 13, 14, 15, 11, 12, 13, 14, 15, 11, 12, 13, 14, 15, 11, 12, 13, 14,\n",
      "        15, 21, 22, 23, 24, 25, 21, 22, 23, 24, 25, 21, 22, 23, 24, 25, 21, 22,\n",
      "        23, 24, 25, 21, 22, 23, 24, 25, 21, 22, 23, 24, 25, 21, 22, 23, 24, 25,\n",
      "        21, 22, 23, 24, 25, 21, 22, 23, 24, 25, 21, 22, 23, 24, 25, 21, 22, 23,\n",
      "        24, 25, 21, 22, 23, 24, 25, 21, 22, 23, 24, 25, 21, 22, 23, 24, 25, 21,\n",
      "        22, 23, 24, 25, 21, 22, 23, 24, 25, 21, 22, 23, 24, 25, 21, 22, 23, 24,\n",
      "        25, 21, 22, 23, 24, 25, 21, 22, 23, 24, 25, 21, 22, 23, 24, 25, 21, 22,\n",
      "        23, 24, 25, 21, 22, 23, 24, 25, 21, 22, 23, 24, 25, 21, 22, 23, 24, 25,\n",
      "        21, 22, 23, 24, 25, 21, 22, 23, 24, 25, 21, 22, 23, 24, 25, 21, 22, 23,\n",
      "        24, 25, 21, 22, 23, 24, 25, 31, 32, 33, 34, 31, 32, 33, 34, 31, 32, 33,\n",
      "        34, 31, 32, 33, 34, 31, 32, 33, 34, 31, 32, 33, 34, 31, 32, 33, 34, 31,\n",
      "        32, 33, 34, 31, 32, 33, 34, 31, 32, 33, 34, 31, 32, 33, 34, 31, 32, 33,\n",
      "        34, 31, 32, 33, 34, 31, 32, 33, 34, 31, 32, 33, 34, 31, 32, 33, 34, 31,\n",
      "        32, 33, 34, 31], device='cuda:0')\n",
      "Dataset has 80 in total!\n",
      "\n"
     ]
    },
    {
     "name": "stderr",
     "output_type": "stream",
     "text": [
      "Processing traces: 100%|██████████| 80/80 [43:46<00:00, 32.83s/it]\n"
     ]
    },
    {
     "name": "stdout",
     "output_type": "stream",
     "text": [
      "Data has been written to tree_size32.json\n"
     ]
    },
    {
     "name": "stderr",
     "output_type": "stream",
     "text": [
      "Processing traces: 100%|██████████| 80/80 [43:43<00:00, 32.80s/it]\n"
     ]
    },
    {
     "name": "stdout",
     "output_type": "stream",
     "text": [
      "Data has been written to tree_size64.json\n"
     ]
    },
    {
     "name": "stderr",
     "output_type": "stream",
     "text": [
      "Processing traces: 100%|██████████| 80/80 [44:19<00:00, 33.24s/it]\n"
     ]
    },
    {
     "name": "stdout",
     "output_type": "stream",
     "text": [
      "Data has been written to tree_size96.json\n"
     ]
    },
    {
     "name": "stderr",
     "output_type": "stream",
     "text": [
      "Processing traces: 100%|██████████| 80/80 [45:40<00:00, 34.26s/it]\n"
     ]
    },
    {
     "name": "stdout",
     "output_type": "stream",
     "text": [
      "Data has been written to tree_size128.json\n"
     ]
    },
    {
     "name": "stderr",
     "output_type": "stream",
     "text": [
      "Processing traces: 100%|██████████| 80/80 [43:45<00:00, 32.82s/it]"
     ]
    },
    {
     "name": "stdout",
     "output_type": "stream",
     "text": [
      "Data has been written to tree_size256.json\n"
     ]
    },
    {
     "name": "stderr",
     "output_type": "stream",
     "text": [
      "\n"
     ]
    }
   ],
   "source": [
    "medusa_choices = mc_sim_7b_63\n",
    "# medusa_choices = vicuna_7b_stage1_ablation\n",
    "medusa_choices = TreeD_256\n",
    "print(f\"Medusa choices:{medusa_choices}\\n\")\n",
    "print(medusa_buffers[\"tree_indices\"])\n",
    "trace_num= len(dataset['train']['prompt'])\n",
    "print(f\"Dataset has {trace_num} in total!\\n\")\n",
    "\n",
    "import json\n",
    "from tqdm import tqdm\n",
    "# example\n",
    "# tree_data = [\n",
    "#     {\n",
    "#         \"Tree ID\": 1,\n",
    "#         \"Tree Structure\": [0, 0, 1],\n",
    "#         \"Token Tree size\": 10,\n",
    "#         \"Records\": [\n",
    "#             {\n",
    "#                 \"prompt\": \"This is prompt 1\",\n",
    "#                 \"Accept_length\": 5,\n",
    "#                 \"Avg_accept_length\": 4.5\n",
    "#             },\n",
    "#             {\n",
    "#                 \"prompt\": \"This is prompt 2\",\n",
    "#                 \"Accept_length\": 7,\n",
    "#                 \"Avg_accept_length\": 6.2\n",
    "#             }\n",
    "#         ]\n",
    "#     },\n",
    "#     # 添加更多的数据项...\n",
    "# ] \n",
    "tree_setting=[TreeA_32, mc_sim_7b_63, TreeC_96, TreeB_128,  TreeD_256]\n",
    "tree_data=[]\n",
    "\n",
    "for index, select_tree in enumerate(tree_setting):\n",
    "    \n",
    "    tree_data.append({\n",
    "            \"Tree_ID\":  index,\n",
    "            \"Tree_Structure\": select_tree,\n",
    "            \"Token_Tree_size\": len(select_tree)+1,\n",
    "            \"Records\": []\n",
    "        })\n",
    "    \n",
    "        # print(f\"tree_indices={medusa_buffers[\"tree_indices\"]}\\n\")\n",
    "    with torch.inference_mode():\n",
    "        for trace in tqdm(range(trace_num), desc=\"Processing traces\"):\n",
    "            past_key_values, past_key_values_data, current_length_data = initialize_past_key_values(model.base_model)\n",
    "            model.past_key_values = past_key_values\n",
    "            model.past_key_values_data = past_key_values_data\n",
    "            model.current_length_data = current_length_data\n",
    "            \n",
    "            model.current_length_data.zero_() # this is for rerun\n",
    "            prompt = dataset['train']['prompt'][trace ]\n",
    "            # print(prompt)\n",
    "            input_ids = tokenizer([prompt]).input_ids\n",
    "            input_len = len(input_ids[0])\n",
    "            # print('Input token length:', len(input_ids[0]))\n",
    "            # print('Init KV cache shape for attention modules:', model.past_key_values[0][0].shape, model.past_key_values[0][1].shape)\n",
    "            accept_lengths_tree = []\n",
    "            \n",
    "            new_token = 0\n",
    "            \n",
    "            input_ids = torch.as_tensor(input_ids).cuda()\n",
    "            model.current_length_data.zero_() # this is for rerun\n",
    "            reset_medusa_mode(model)\n",
    "            medusa_buffers = generate_medusa_buffers(\n",
    "                        medusa_choices, device=model.base_model.device\n",
    "                    )\n",
    "            medusa_logits, logits = initialize_medusa(\n",
    "                    input_ids, model, medusa_buffers[\"medusa_attn_mask\"], past_key_values\n",
    "                )\n",
    "            cur_length = input_len + 1\n",
    "            accept_lengths_tree.append(1)\n",
    "            \n",
    "            for i in range(699):\n",
    "                candidates, tree_candidates = generate_candidates(\n",
    "                        medusa_logits,\n",
    "                        logits,\n",
    "                        medusa_buffers[\"tree_indices\"],\n",
    "                        medusa_buffers[\"retrieve_indices\"],\n",
    "                    )\n",
    "                # if i==0:\n",
    "                #     print(f\"candidates={candidates}\\n\")\n",
    "                #     print(f\"tree_candidates={tree_candidates}\\n\")\n",
    "                medusa_logits, logits, outputs = tree_decoding(\n",
    "                        model,\n",
    "                        tree_candidates,\n",
    "                        past_key_values,\n",
    "                        medusa_buffers[\"medusa_position_ids\"],\n",
    "                        input_ids,\n",
    "                        medusa_buffers[\"retrieve_indices\"],\n",
    "                    )\n",
    "                best_candidate, accept_length = evaluate_posterior(\n",
    "                        logits, candidates, temperature = 0, posterior_threshold = 0, posterior_alpha = 0\n",
    "                    )\n",
    "                input_ids, logits, medusa_logits, new_token = update_inference_inputs(\n",
    "                        input_ids,\n",
    "                        candidates,\n",
    "                        best_candidate,\n",
    "                        accept_length,\n",
    "                        medusa_buffers[\"retrieve_indices\"],\n",
    "                        outputs,\n",
    "                        logits,\n",
    "                        medusa_logits,\n",
    "                        new_token,\n",
    "                        past_key_values_data,\n",
    "                        current_length_data,\n",
    "                    )\n",
    "                \n",
    "                accept_length_tree = input_ids.shape[1] - cur_length\n",
    "                cur_length = accept_length_tree + cur_length\n",
    "                accept_lengths_tree.append(accept_length_tree)\n",
    "                # if model.tokenizer.eos_token_id in input_ids[0, input_len:]:\n",
    "                #     break\n",
    "            \n",
    "        # print('Decode:', tokenizer.batch_decode(input_ids[:,input_len:]))\n",
    "            avg_len = np.mean(accept_lengths_tree)\n",
    "            # print(f\"Avg. accept tree length for trace {trace} = {avg_len} \" )\n",
    "            for tree in tree_data:\n",
    "                if tree[\"Tree_ID\"] == index:\n",
    "                    tree[\"Records\"].append({\n",
    "                    \"prompt\": prompt,\n",
    "                    \"Accept_length\": accept_lengths_tree,\n",
    "                    \"Avg_accept_length\": avg_len\n",
    "                    })\n",
    "    output_file = \"tree_size\"+str(len(select_tree)+1)+\".json\"\n",
    "    with open(output_file, \"w\") as f:\n",
    "        for tree in tree_data:\n",
    "            # 写入 Tree ID, Tree Structure, Token Tree size\n",
    "            if tree[\"Tree_ID\"] == index:\n",
    "                json.dump({\n",
    "                    \"Tree_ID\": tree[\"Tree_ID\"],\n",
    "                    \"Tree_Structure\": tree[\"Tree_Structure\"],\n",
    "                    \"Token_Tree_size\": tree[\"Token_Tree_size\"],\n",
    "                    \"Records\":tree[\"Records\"]\n",
    "                    \n",
    "                }, f)\n",
    "                f.write(\"\\n\")  # 换行\n",
    "    \n",
    "        # f.write(\"\\n\") \n",
    "    print(\"Data has been written to\", output_file)\n",
    "# print(tree_data)\n"
   ]
  },
  {
   "cell_type": "code",
   "execution_count": 51,
   "id": "57e00052-666b-4e1f-9a92-ceec4354747e",
   "metadata": {},
   "outputs": [
    {
     "name": "stdout",
     "output_type": "stream",
     "text": [
      "Data has been written to result.json\n"
     ]
    }
   ],
   "source": [
    "output_file = \"result.json\"\n",
    "with open(output_file, \"w\") as f:\n",
    "    for tree in tree_data:\n",
    "        # 写入 Tree ID, Tree Structure, Token Tree size\n",
    "        json.dump({\n",
    "            \"Tree_ID\": tree[\"Tree_ID\"],\n",
    "            \"Tree_Structure\": tree[\"Tree_Structure\"],\n",
    "            \"Token_Tree_size\": tree[\"Token_Tree_size\"],\n",
    "            \"Records\":tree[\"Records\"]\n",
    "            \n",
    "        }, f)\n",
    "        f.write(\"\\n\")  # 换行\n",
    "\n",
    "    # f.write(\"\\n\") \n",
    "print(\"Data has been written to\", output_file)"
   ]
  },
  {
   "cell_type": "code",
   "execution_count": 32,
   "id": "da36dbd2-034f-406f-be98-ded9b28461b9",
   "metadata": {},
   "outputs": [
    {
     "name": "stdout",
     "output_type": "stream",
     "text": [
      "Avg. accept tree length: 4.103218645948946\n"
     ]
    },
    {
     "data": {
      "image/png": "[encoded data removed]",
      "text/plain": [
       "<Figure size 640x480 with 1 Axes>"
      ]
     },
     "metadata": {},
     "output_type": "display_data"
    }
   ],
   "source": [
    "\n",
    "\n",
    "# Unsmoothed plots with transparency\n",
    "plt.plot(accept_lengths_tree, label='Tree decoding (Raw)', alpha=0.3)\n",
    "# plt.plot(accept_lengths, label='List decoding (Raw)', alpha=0.3)\n",
    "\n",
    "# # Smoothed plots\n",
    "# window_size = 5  # You can adjust this as needed\n",
    "# plt.plot(moving_average(accept_lengths_tree, window_size), label='Tree decoding (Smoothed)', color='tab:blue')\n",
    "# plt.plot(moving_average(accept_lengths, window_size), label='List decoding (Smoothed)', color='tab:orange')\n",
    "\n",
    "plt.xlabel('Inference step')\n",
    "plt.ylabel('Accept length')\n",
    "plt.legend()\n",
    "\n",
    "print('Avg. accept tree length:', np.mean(accept_lengths_tree))\n",
    "# print('Avg. accept list length:', np.mean(accept_lengths))\n",
    "\n",
    "plt.show()"
   ]
  },
  {
   "cell_type": "code",
   "execution_count": null,
   "id": "337d6c91-96d2-456d-af42-2e13719b81e9",
   "metadata": {},
   "outputs": [],
   "source": []
  }
 ],
 "metadata": {
  "kernelspec": {
   "display_name": "Python (reasoner)",
   "language": "python",
   "name": "reasoners"
  },
  "language_info": {
   "codemirror_mode": {
    "name": "ipython",
    "version": 3
   },
   "file_extension": ".py",
   "mimetype": "text/x-python",
   "name": "python",
   "nbconvert_exporter": "python",
   "pygments_lexer": "ipython3",
   "version": "3.11.6"
  }
 },
 "nbformat": 4,
 "nbformat_minor": 5
}
